{
 "cells": [
  {
   "attachments": {},
   "cell_type": "markdown",
   "metadata": {},
   "source": [
    "# Spherically symmetric metric\n",
    "\n",
    "#### Hugo Rivera Morales\n",
    "#### Cosmología"
   ]
  },
  {
   "cell_type": "code",
   "execution_count": 1,
   "metadata": {},
   "outputs": [],
   "source": [
    "# Paqueterias\n",
    "from gravipy.tensorial import *\n",
    "from sympy import *\n",
    "import sympy as sp\n",
    "import numpy as np\n",
    "import inspect\n",
    "init_printing()"
   ]
  },
  {
   "cell_type": "code",
   "execution_count": 2,
   "metadata": {},
   "outputs": [],
   "source": [
    "# Constantes\n",
    "# Simbolos\n",
    "t, r, theta, phi, F, H = sp.symbols('t, r, \\\\theta, \\phi, F, H')\n",
    "# Functions\n",
    "F = Function('F')(r,t)\n",
    "H = Function('H')(r,t)\n",
    "# Space-time coords. x^mu\n",
    "x = Coordinates('\\chi', [t, r, theta, phi])\n",
    "# Mtrica\n",
    "Metric = diag(-exp(2*F), exp(2*H), r**2, r**2*sin(theta)**2)\n",
    "# Metric tensor\n",
    "g=MetricTensor('g',x,Metric)"
   ]
  },
  {
   "attachments": {},
   "cell_type": "markdown",
   "metadata": {},
   "source": [
    "Metric:"
   ]
  },
  {
   "cell_type": "code",
   "execution_count": 3,
   "metadata": {},
   "outputs": [
    {
     "data": {
      "text/latex": [
       "$\\displaystyle \\left[\\begin{matrix}- e^{2 F{\\left(r,t \\right)}} & 0 & 0 & 0\\\\0 & e^{2 H{\\left(r,t \\right)}} & 0 & 0\\\\0 & 0 & r^{2} & 0\\\\0 & 0 & 0 & r^{2} \\sin^{2}{\\left(\\theta \\right)}\\end{matrix}\\right]$"
      ],
      "text/plain": [
       "⎡  2⋅F(r, t)                                 ⎤\n",
       "⎢-ℯ               0       0          0       ⎥\n",
       "⎢                                            ⎥\n",
       "⎢              2⋅H(r, t)                     ⎥\n",
       "⎢     0       ℯ           0          0       ⎥\n",
       "⎢                                            ⎥\n",
       "⎢                          2                 ⎥\n",
       "⎢     0           0       r          0       ⎥\n",
       "⎢                                            ⎥\n",
       "⎢                              2    2        ⎥\n",
       "⎣     0           0       0   r ⋅sin (\\theta)⎦"
      ]
     },
     "execution_count": 3,
     "metadata": {},
     "output_type": "execute_result"
    }
   ],
   "source": [
    "g(All, All)"
   ]
  },
  {
   "attachments": {},
   "cell_type": "markdown",
   "metadata": {},
   "source": [
    "Einstein Tensor:"
   ]
  },
  {
   "cell_type": "code",
   "execution_count": 4,
   "metadata": {},
   "outputs": [
    {
     "data": {
      "text/latex": [
       "$\\displaystyle \\left[\\begin{matrix}\\frac{\\left(2 r \\frac{\\partial}{\\partial r} H{\\left(r,t \\right)} + e^{2 H{\\left(r,t \\right)}} - 1\\right) e^{2 F{\\left(r,t \\right)} - 2 H{\\left(r,t \\right)}}}{r^{2}} & \\frac{2 \\frac{\\partial}{\\partial t} H{\\left(r,t \\right)}}{r} & 0 & 0\\\\\\frac{2 \\frac{\\partial}{\\partial t} H{\\left(r,t \\right)}}{r} & \\frac{2 r \\frac{\\partial}{\\partial r} F{\\left(r,t \\right)} - e^{2 H{\\left(r,t \\right)}} + 1}{r^{2}} & 0 & 0\\\\0 & 0 & r^{2} e^{- 2 H{\\left(r,t \\right)}} \\left(\\frac{\\partial}{\\partial r} F{\\left(r,t \\right)}\\right)^{2} - r^{2} e^{- 2 H{\\left(r,t \\right)}} \\frac{\\partial}{\\partial r} F{\\left(r,t \\right)} \\frac{\\partial}{\\partial r} H{\\left(r,t \\right)} + r^{2} e^{- 2 H{\\left(r,t \\right)}} \\frac{\\partial^{2}}{\\partial r^{2}} F{\\left(r,t \\right)} + r^{2} e^{- 2 F{\\left(r,t \\right)}} \\frac{\\partial}{\\partial t} F{\\left(r,t \\right)} \\frac{\\partial}{\\partial t} H{\\left(r,t \\right)} - r^{2} e^{- 2 F{\\left(r,t \\right)}} \\left(\\frac{\\partial}{\\partial t} H{\\left(r,t \\right)}\\right)^{2} - r^{2} e^{- 2 F{\\left(r,t \\right)}} \\frac{\\partial^{2}}{\\partial t^{2}} H{\\left(r,t \\right)} + r e^{- 2 H{\\left(r,t \\right)}} \\frac{\\partial}{\\partial r} F{\\left(r,t \\right)} - r e^{- 2 H{\\left(r,t \\right)}} \\frac{\\partial}{\\partial r} H{\\left(r,t \\right)} & 0\\\\0 & 0 & 0 & r \\left(r e^{2 F{\\left(r,t \\right)}} \\left(\\frac{\\partial}{\\partial r} F{\\left(r,t \\right)}\\right)^{2} - r e^{2 F{\\left(r,t \\right)}} \\frac{\\partial}{\\partial r} F{\\left(r,t \\right)} \\frac{\\partial}{\\partial r} H{\\left(r,t \\right)} + r e^{2 F{\\left(r,t \\right)}} \\frac{\\partial^{2}}{\\partial r^{2}} F{\\left(r,t \\right)} + r e^{2 H{\\left(r,t \\right)}} \\frac{\\partial}{\\partial t} F{\\left(r,t \\right)} \\frac{\\partial}{\\partial t} H{\\left(r,t \\right)} - r e^{2 H{\\left(r,t \\right)}} \\left(\\frac{\\partial}{\\partial t} H{\\left(r,t \\right)}\\right)^{2} - r e^{2 H{\\left(r,t \\right)}} \\frac{\\partial^{2}}{\\partial t^{2}} H{\\left(r,t \\right)} + e^{2 F{\\left(r,t \\right)}} \\frac{\\partial}{\\partial r} F{\\left(r,t \\right)} - e^{2 F{\\left(r,t \\right)}} \\frac{\\partial}{\\partial r} H{\\left(r,t \\right)}\\right) e^{- 2 F{\\left(r,t \\right)} - 2 H{\\left(r,t \\right)}} \\sin^{2}{\\left(\\theta \\right)}\\end{matrix}\\right]$"
      ],
      "text/plain": [
       "⎡⎛    ∂              2⋅H(r, t)    ⎞  2⋅F(r, t) - 2⋅H(r, t)             ∂      \n",
       "⎢⎜2⋅r⋅──(H(r, t)) + ℯ          - 1⎟⋅ℯ                                2⋅──(H(r,\n",
       "⎢⎝    ∂r                          ⎠                                    ∂t     \n",
       "⎢─────────────────────────────────────────────────────────           ─────────\n",
       "⎢                             2                                            r  \n",
       "⎢                            r                                                \n",
       "⎢                                                                             \n",
       "⎢                        ∂                                      ∂             \n",
       "⎢                      2⋅──(H(r, t))                        2⋅r⋅──(F(r, t)) - \n",
       "⎢                        ∂t                                     ∂r            \n",
       "⎢                      ─────────────                        ──────────────────\n",
       "⎢                            r                                              2 \n",
       "⎢                                                                          r  \n",
       "⎢                                                                             \n",
       "⎢                                                                             \n",
       "⎢                                                                             \n",
       "⎢                            0                                             0  \n",
       "⎢                                                                             \n",
       "⎢                                                                             \n",
       "⎢                                                                             \n",
       "⎢                                                                             \n",
       "⎢                                                                             \n",
       "⎢                            0                                             0  \n",
       "⎢                                                                             \n",
       "⎣                                                                             \n",
       "\n",
       "                                                                              \n",
       " t))                                                                          \n",
       "                                                                              \n",
       "────                                                                          \n",
       "                                                                              \n",
       "                                                                              \n",
       "                                                                              \n",
       " 2⋅H(r, t)                                                                    \n",
       "ℯ          + 1                                                                \n",
       "                                                                              \n",
       "──────────────                                                                \n",
       "                                                                              \n",
       "                                                                              \n",
       "                                                                              \n",
       "                                            2                                 \n",
       "                 2  -2⋅H(r, t) ⎛∂          ⎞     2  -2⋅H(r, t) ∂           ∂  \n",
       "                r ⋅ℯ          ⋅⎜──(F(r, t))⎟  - r ⋅ℯ          ⋅──(F(r, t))⋅──(\n",
       "                               ⎝∂r         ⎠                   ∂r          ∂r \n",
       "                                                                              \n",
       "                                                                              \n",
       "                                                                              \n",
       "                                                                              \n",
       "                                                                              \n",
       "                                                                              \n",
       "                                                                              \n",
       "\n",
       "                                                                              \n",
       "                                                                              \n",
       "                                                                              \n",
       "                                                                   0          \n",
       "                                                                              \n",
       "                                                                              \n",
       "                                                                              \n",
       "                                                                              \n",
       "                                                                              \n",
       "                                                                              \n",
       "                                                                   0          \n",
       "                                                                              \n",
       "                                                                              \n",
       "                                                                              \n",
       "                            2                                                 \n",
       "            2  -2⋅H(r, t)  ∂              2  -2⋅F(r, t) ∂           ∂         \n",
       "H(r, t)) + r ⋅ℯ          ⋅───(F(r, t)) + r ⋅ℯ          ⋅──(F(r, t))⋅──(H(r, t)\n",
       "                            2                           ∂t          ∂t        \n",
       "                          ∂r                                                  \n",
       "                                                                              \n",
       "                                                                              \n",
       "                                                                              \n",
       "                                                                   0          \n",
       "                                                                              \n",
       "                                                                              \n",
       "\n",
       "                                                                              \n",
       "                                                                              \n",
       "                                                                              \n",
       "                                                                              \n",
       "                                                                              \n",
       "                                                                              \n",
       "                                                                              \n",
       "                                                                              \n",
       "                                                                              \n",
       "                                                                              \n",
       "                                                                              \n",
       "                                                                              \n",
       "                                                                              \n",
       "                                                                              \n",
       "                                2                    2                        \n",
       "     2  -2⋅F(r, t) ⎛∂          ⎞     2  -2⋅F(r, t)  ∂                -2⋅H(r, t\n",
       ") - r ⋅ℯ          ⋅⎜──(H(r, t))⎟  - r ⋅ℯ          ⋅───(H(r, t)) + r⋅ℯ         \n",
       "                   ⎝∂t         ⎠                     2                        \n",
       "                                                   ∂t                         \n",
       "                                                                              \n",
       "                                                                              \n",
       "                                                                              \n",
       "                                                                              \n",
       "                                                                              \n",
       "                                                                              \n",
       "\n",
       "                                                                              \n",
       "                                                                              \n",
       "                                                                              \n",
       "                                                                              \n",
       "                                                                              \n",
       "                                                                              \n",
       "                                                                              \n",
       "                                                                              \n",
       "                                                                              \n",
       "                                                                              \n",
       "                                                                              \n",
       "                                                                              \n",
       "                                                                              \n",
       "                                                                              \n",
       "                                                                              \n",
       ") ∂                -2⋅H(r, t) ∂                                               \n",
       " ⋅──(F(r, t)) - r⋅ℯ          ⋅──(H(r, t))                                     \n",
       "  ∂r                          ∂r                                              \n",
       "                                                                              \n",
       "                                                                              \n",
       "                                             ⎛                          2     \n",
       "                                             ⎜   2⋅F(r, t) ⎛∂          ⎞      \n",
       "                                           r⋅⎜r⋅ℯ         ⋅⎜──(F(r, t))⎟  - r⋅\n",
       "                                             ⎜             ⎝∂r         ⎠      \n",
       "                                             ⎝                                \n",
       "\n",
       "                                                                              \n",
       "                                                                              \n",
       "                                                                              \n",
       "                                                                              \n",
       "                                                                              \n",
       "                                                                              \n",
       "                                                                              \n",
       "                                                                              \n",
       "                                                                              \n",
       "                                                                              \n",
       "                                                                              \n",
       "                                                                              \n",
       "                                                                              \n",
       "                                                                              \n",
       "                                                                              \n",
       "                                                                              \n",
       "                                                                              \n",
       "                                                                              \n",
       "                                                                              \n",
       "                                                                              \n",
       "                                                    2                         \n",
       " 2⋅F(r, t) ∂           ∂                2⋅F(r, t)  ∂                2⋅H(r, t) \n",
       "ℯ         ⋅──(F(r, t))⋅──(H(r, t)) + r⋅ℯ         ⋅───(F(r, t)) + r⋅ℯ         ⋅\n",
       "           ∂r          ∂r                           2                         \n",
       "                                                  ∂r                          \n",
       "\n",
       "                                                                              \n",
       "                                                                              \n",
       "                                                                              \n",
       "                           0                                                  \n",
       "                                                                              \n",
       "                                                                              \n",
       "                                                                              \n",
       "                                                                              \n",
       "                                                                              \n",
       "                                                                              \n",
       "                           0                                                  \n",
       "                                                                              \n",
       "                                                                              \n",
       "                                                                              \n",
       "                                                                              \n",
       "                                                                              \n",
       "                           0                                                  \n",
       "                                                                              \n",
       "                                                                              \n",
       "                                                                              \n",
       "                                                    2                  2      \n",
       "∂           ∂                2⋅H(r, t) ⎛∂          ⎞       2⋅H(r, t)  ∂       \n",
       "──(F(r, t))⋅──(H(r, t)) - r⋅ℯ         ⋅⎜──(H(r, t))⎟  - r⋅ℯ         ⋅───(H(r, \n",
       "∂t          ∂t                         ⎝∂t         ⎠                   2      \n",
       "                                                                     ∂t       \n",
       "\n",
       "                                                                              \n",
       "                                                                              \n",
       "                                                                              \n",
       "                                                                              \n",
       "                                                                              \n",
       "                                                                              \n",
       "                                                                              \n",
       "                                                                              \n",
       "                                                                              \n",
       "                                                                              \n",
       "                                                                              \n",
       "                                                                              \n",
       "                                                                              \n",
       "                                                                              \n",
       "                                                                              \n",
       "                                                                              \n",
       "                                                                              \n",
       "                                                                              \n",
       "                                                                              \n",
       "                                                                              \n",
       "                                                     ⎞                        \n",
       "       2⋅F(r, t) ∂              2⋅F(r, t) ∂          ⎟  -2⋅F(r, t) - 2⋅H(r, t)\n",
       "t)) + ℯ         ⋅──(F(r, t)) - ℯ         ⋅──(H(r, t))⎟⋅ℯ                      \n",
       "                 ∂r                       ∂r         ⎟                        \n",
       "                                                     ⎠                        \n",
       "\n",
       "             ⎤\n",
       "             ⎥\n",
       "             ⎥\n",
       "             ⎥\n",
       "             ⎥\n",
       "             ⎥\n",
       "             ⎥\n",
       "             ⎥\n",
       "             ⎥\n",
       "             ⎥\n",
       "             ⎥\n",
       "             ⎥\n",
       "             ⎥\n",
       "             ⎥\n",
       "             ⎥\n",
       "             ⎥\n",
       "             ⎥\n",
       "             ⎥\n",
       "             ⎥\n",
       "             ⎥\n",
       "             ⎥\n",
       "    2        ⎥\n",
       "⋅sin (\\theta)⎥\n",
       "             ⎥\n",
       "             ⎦"
      ]
     },
     "execution_count": 4,
     "metadata": {},
     "output_type": "execute_result"
    }
   ],
   "source": [
    "Ga = Christoffel('Ga', g)\n",
    "Ri = Ricci('Ri', g)\n",
    "G = Einstein('G', Ri)\n",
    "G(All, All)"
   ]
  },
  {
   "attachments": {},
   "cell_type": "markdown",
   "metadata": {},
   "source": [
    "Considerando $\\frac{\\partial H}{\\partial t} = \\dot{H}$, $\\frac{\\partial H}{\\partial r} = H'$ y $\\frac{\\partial F}{\\partial t} = \\dot{F}$, $\\frac{\\partial F}{\\partial r} = F'$"
   ]
  },
  {
   "cell_type": "markdown",
   "metadata": {},
   "source": [
    "### Tensor de Einstein $G_{\\mu\\nu}$"
   ]
  },
  {
   "attachments": {},
   "cell_type": "markdown",
   "metadata": {},
   "source": [
    "#### a\\) $G_{00}$ :"
   ]
  },
  {
   "cell_type": "code",
   "execution_count": 5,
   "metadata": {},
   "outputs": [
    {
     "data": {
      "image/png": "[encoded data removed]",
      "text/latex": [
       "$\\displaystyle \\frac{\\left(2 r \\frac{\\partial}{\\partial r} H{\\left(r,t \\right)} + e^{2 H{\\left(r,t \\right)}} - 1\\right) e^{2 F{\\left(r,t \\right)} - 2 H{\\left(r,t \\right)}}}{r^{2}}$"
      ],
      "text/plain": [
       "⎛    ∂              2⋅H(r, t)    ⎞  2⋅F(r, t) - 2⋅H(r, t)\n",
       "⎜2⋅r⋅──(H(r, t)) + ℯ          - 1⎟⋅ℯ                     \n",
       "⎝    ∂r                          ⎠                       \n",
       "─────────────────────────────────────────────────────────\n",
       "                             2                           \n",
       "                            r                            "
      ]
     },
     "execution_count": 5,
     "metadata": {},
     "output_type": "execute_result"
    }
   ],
   "source": [
    "G(1,1)"
   ]
  },
  {
   "attachments": {},
   "cell_type": "markdown",
   "metadata": {},
   "source": [
    "\\begin{align*}\n",
    "    G_{00} &= \\frac{e^{2(F-H)}}{r^2}\\left( 2rH'+e^{2H}-1 \\right)\\\\\n",
    "    &= \\left[ e^{-2H}\\left( \\frac{2}{r}H'-\\frac{1}{r^2}\\right)+\\frac{1}{r^2} \\right]e^{2F}\n",
    "\\end{align*}"
   ]
  },
  {
   "attachments": {},
   "cell_type": "markdown",
   "metadata": {},
   "source": [
    "#### b\\) $G_{11}$ :"
   ]
  },
  {
   "cell_type": "code",
   "execution_count": 6,
   "metadata": {},
   "outputs": [
    {
     "data": {
      "image/png": "[encoded data removed]",
      "text/latex": [
       "$\\displaystyle \\frac{2 r \\frac{\\partial}{\\partial r} F{\\left(r,t \\right)} - e^{2 H{\\left(r,t \\right)}} + 1}{r^{2}}$"
      ],
      "text/plain": [
       "    ∂              2⋅H(r, t)    \n",
       "2⋅r⋅──(F(r, t)) - ℯ          + 1\n",
       "    ∂r                          \n",
       "────────────────────────────────\n",
       "                2               \n",
       "               r                "
      ]
     },
     "execution_count": 6,
     "metadata": {},
     "output_type": "execute_result"
    }
   ],
   "source": [
    "G(2,2)"
   ]
  },
  {
   "attachments": {},
   "cell_type": "markdown",
   "metadata": {},
   "source": [
    "\\begin{align*}\n",
    "    G_{11} &= \\frac{1}{r^2}\\left( 2rF'-e^{2H}+1 \\right)\\\\\n",
    "    &= \\left[ e^{-2H}\\left( \\frac{2}{r}F'+\\frac{1}{r^2}\\right)-\\frac{1}{r^2} \\right]e^{2H}\n",
    "\\end{align*}"
   ]
  },
  {
   "attachments": {},
   "cell_type": "markdown",
   "metadata": {},
   "source": [
    "#### c\\) $G_{22}$ :"
   ]
  },
  {
   "cell_type": "code",
   "execution_count": 7,
   "metadata": {},
   "outputs": [
    {
     "data": {
      "image/png": "[encoded data removed]",
      "text/latex": [
       "$\\displaystyle r^{2} e^{- 2 H{\\left(r,t \\right)}} \\left(\\frac{\\partial}{\\partial r} F{\\left(r,t \\right)}\\right)^{2} - r^{2} e^{- 2 H{\\left(r,t \\right)}} \\frac{\\partial}{\\partial r} F{\\left(r,t \\right)} \\frac{\\partial}{\\partial r} H{\\left(r,t \\right)} + r^{2} e^{- 2 H{\\left(r,t \\right)}} \\frac{\\partial^{2}}{\\partial r^{2}} F{\\left(r,t \\right)} + r^{2} e^{- 2 F{\\left(r,t \\right)}} \\frac{\\partial}{\\partial t} F{\\left(r,t \\right)} \\frac{\\partial}{\\partial t} H{\\left(r,t \\right)} - r^{2} e^{- 2 F{\\left(r,t \\right)}} \\left(\\frac{\\partial}{\\partial t} H{\\left(r,t \\right)}\\right)^{2} - r^{2} e^{- 2 F{\\left(r,t \\right)}} \\frac{\\partial^{2}}{\\partial t^{2}} H{\\left(r,t \\right)} + r e^{- 2 H{\\left(r,t \\right)}} \\frac{\\partial}{\\partial r} F{\\left(r,t \\right)} - r e^{- 2 H{\\left(r,t \\right)}} \\frac{\\partial}{\\partial r} H{\\left(r,t \\right)}$"
      ],
      "text/plain": [
       "                            2                                                 \n",
       " 2  -2⋅H(r, t) ⎛∂          ⎞     2  -2⋅H(r, t) ∂           ∂              2  -\n",
       "r ⋅ℯ          ⋅⎜──(F(r, t))⎟  - r ⋅ℯ          ⋅──(F(r, t))⋅──(H(r, t)) + r ⋅ℯ \n",
       "               ⎝∂r         ⎠                   ∂r          ∂r                 \n",
       "                                                                              \n",
       "\n",
       "            2                                                                 \n",
       "2⋅H(r, t)  ∂              2  -2⋅F(r, t) ∂           ∂              2  -2⋅F(r, \n",
       "         ⋅───(F(r, t)) + r ⋅ℯ          ⋅──(F(r, t))⋅──(H(r, t)) - r ⋅ℯ        \n",
       "            2                           ∂t          ∂t                        \n",
       "          ∂r                                                                  \n",
       "\n",
       "                2                    2                                        \n",
       "t) ⎛∂          ⎞     2  -2⋅F(r, t)  ∂                -2⋅H(r, t) ∂             \n",
       "  ⋅⎜──(H(r, t))⎟  - r ⋅ℯ          ⋅───(H(r, t)) + r⋅ℯ          ⋅──(F(r, t)) - \n",
       "   ⎝∂t         ⎠                     2                          ∂r            \n",
       "                                   ∂t                                         \n",
       "\n",
       "                         \n",
       "   -2⋅H(r, t) ∂          \n",
       "r⋅ℯ          ⋅──(H(r, t))\n",
       "              ∂r         \n",
       "                         "
      ]
     },
     "execution_count": 7,
     "metadata": {},
     "output_type": "execute_result"
    }
   ],
   "source": [
    "G(3,3)"
   ]
  },
  {
   "attachments": {},
   "cell_type": "markdown",
   "metadata": {},
   "source": [
    "\\begin{align*}\n",
    "    G_{22}&=r^2\\left(e^{-2H}F'^2-e^{-2H}F'H'+e^{-2H}F''-\\frac{e^{-2H}}{r}H'+\\frac{e^{-2H}}{r}F'\\right)\\\\\n",
    "&-r^2\\left(e^{-2F}\\dot{H}^2-e^{-2F}\\dot{F}\\dot{H}+e^{-2F}\\ddot{H}\\right)\\\\\n",
    "&=r^2\\left(e^{-2H}\\left(F'^2-F'H'+F''+\\frac{1}{r}\\left(F'-H'\\right)\\right)-e^{-2F}\\left(\\dot{H}^2-\\dot{F}\\dot{H}+\\ddot{H}\\right)\\right)\n",
    "\\end{align*}"
   ]
  },
  {
   "attachments": {},
   "cell_type": "markdown",
   "metadata": {},
   "source": [
    "#### d\\) $G_{33}$ :"
   ]
  },
  {
   "cell_type": "code",
   "execution_count": 8,
   "metadata": {},
   "outputs": [
    {
     "data": {
      "image/png": "[encoded data removed]",
      "text/latex": [
       "$\\displaystyle r \\left(r e^{2 F{\\left(r,t \\right)}} \\left(\\frac{\\partial}{\\partial r} F{\\left(r,t \\right)}\\right)^{2} - r e^{2 F{\\left(r,t \\right)}} \\frac{\\partial}{\\partial r} F{\\left(r,t \\right)} \\frac{\\partial}{\\partial r} H{\\left(r,t \\right)} + r e^{2 F{\\left(r,t \\right)}} \\frac{\\partial^{2}}{\\partial r^{2}} F{\\left(r,t \\right)} + r e^{2 H{\\left(r,t \\right)}} \\frac{\\partial}{\\partial t} F{\\left(r,t \\right)} \\frac{\\partial}{\\partial t} H{\\left(r,t \\right)} - r e^{2 H{\\left(r,t \\right)}} \\left(\\frac{\\partial}{\\partial t} H{\\left(r,t \\right)}\\right)^{2} - r e^{2 H{\\left(r,t \\right)}} \\frac{\\partial^{2}}{\\partial t^{2}} H{\\left(r,t \\right)} + e^{2 F{\\left(r,t \\right)}} \\frac{\\partial}{\\partial r} F{\\left(r,t \\right)} - e^{2 F{\\left(r,t \\right)}} \\frac{\\partial}{\\partial r} H{\\left(r,t \\right)}\\right) e^{- 2 F{\\left(r,t \\right)} - 2 H{\\left(r,t \\right)}} \\sin^{2}{\\left(\\theta \\right)}$"
      ],
      "text/plain": [
       "  ⎛                          2                                                \n",
       "  ⎜   2⋅F(r, t) ⎛∂          ⎞       2⋅F(r, t) ∂           ∂                2⋅F\n",
       "r⋅⎜r⋅ℯ         ⋅⎜──(F(r, t))⎟  - r⋅ℯ         ⋅──(F(r, t))⋅──(H(r, t)) + r⋅ℯ   \n",
       "  ⎜             ⎝∂r         ⎠                 ∂r          ∂r                  \n",
       "  ⎝                                                                           \n",
       "\n",
       "         2                                                                    \n",
       "(r, t)  ∂                2⋅H(r, t) ∂           ∂                2⋅H(r, t) ⎛∂  \n",
       "      ⋅───(F(r, t)) + r⋅ℯ         ⋅──(F(r, t))⋅──(H(r, t)) - r⋅ℯ         ⋅⎜──(\n",
       "         2                         ∂t          ∂t                         ⎝∂t \n",
       "       ∂r                                                                     \n",
       "\n",
       "         2                  2                                                 \n",
       "        ⎞       2⋅H(r, t)  ∂              2⋅F(r, t) ∂              2⋅F(r, t) ∂\n",
       "H(r, t))⎟  - r⋅ℯ         ⋅───(H(r, t)) + ℯ         ⋅──(F(r, t)) - ℯ         ⋅─\n",
       "        ⎠                   2                       ∂r                       ∂\n",
       "                          ∂t                                                  \n",
       "\n",
       "          ⎞                                     \n",
       "          ⎟  -2⋅F(r, t) - 2⋅H(r, t)    2        \n",
       "─(H(r, t))⎟⋅ℯ                      ⋅sin (\\theta)\n",
       "r         ⎟                                     \n",
       "          ⎠                                     "
      ]
     },
     "execution_count": 8,
     "metadata": {},
     "output_type": "execute_result"
    }
   ],
   "source": [
    "G(4,4)"
   ]
  },
  {
   "attachments": {},
   "cell_type": "markdown",
   "metadata": {},
   "source": [
    "\\begin{align*}\n",
    "    G_{33}&=r^2\\left(e^{2F}F'^2-e^{2F}F'H'+e^{2F}F''-\\frac{e^{2F}}{r}H'+\\frac{e^{2F}}{r}F'\\right)\\sin^2{\\theta}e^{-2(F+H)}\\\\\n",
    "&-r^2\\left(e^{2H}\\dot{H}^2-e^{2H}\\dot{F}\\dot{H}+e^{2H}\\ddot{H}\\right)\\sin^2{\\theta}e^{-2(F+H)}\\\\\n",
    "&=\\sin^2{\\theta}r^2\\left(e^{-2H}\\left(F'^2-F'H'+F''+\\frac{1}{r}\\left(F'-H'\\right)\\right)-e^{-2F}\\left(\\dot{H}^2-\\dot{F}\\dot{H}+\\ddot{H}\\right)\\right)\\\\\n",
    "&=\\sin^2{\\theta}G_{22}\n",
    "\\end{align*} "
   ]
  },
  {
   "attachments": {},
   "cell_type": "markdown",
   "metadata": {},
   "source": [
    "#### e\\) $G_{01}$ :"
   ]
  },
  {
   "cell_type": "code",
   "execution_count": 9,
   "metadata": {},
   "outputs": [
    {
     "data": {
      "image/png": "[encoded data removed]",
      "text/latex": [
       "$\\displaystyle \\frac{2 \\frac{\\partial}{\\partial t} H{\\left(r,t \\right)}}{r}$"
      ],
      "text/plain": [
       "  ∂          \n",
       "2⋅──(H(r, t))\n",
       "  ∂t         \n",
       "─────────────\n",
       "      r      "
      ]
     },
     "execution_count": 9,
     "metadata": {},
     "output_type": "execute_result"
    }
   ],
   "source": [
    "G(1,2)"
   ]
  },
  {
   "attachments": {},
   "cell_type": "markdown",
   "metadata": {},
   "source": [
    "\\begin{align*} G_{01} = \\frac{2}{r}\\dot{H} \\end{align*}"
   ]
  },
  {
   "attachments": {},
   "cell_type": "markdown",
   "metadata": {},
   "source": [
    "#### f\\) $G_{10}$ :"
   ]
  },
  {
   "cell_type": "code",
   "execution_count": 10,
   "metadata": {},
   "outputs": [
    {
     "data": {
      "image/png": "[encoded data removed]",
      "text/latex": [
       "$\\displaystyle \\frac{2 \\frac{\\partial}{\\partial t} H{\\left(r,t \\right)}}{r}$"
      ],
      "text/plain": [
       "  ∂          \n",
       "2⋅──(H(r, t))\n",
       "  ∂t         \n",
       "─────────────\n",
       "      r      "
      ]
     },
     "execution_count": 10,
     "metadata": {},
     "output_type": "execute_result"
    }
   ],
   "source": [
    "G(2,1)"
   ]
  },
  {
   "attachments": {},
   "cell_type": "markdown",
   "metadata": {},
   "source": [
    "\\begin{align*} G_{10} = \\frac{2}{r}\\dot{H} \\end{align*}"
   ]
  }
 ],
 "metadata": {
  "kernelspec": {
   "display_name": "mexico",
   "language": "python",
   "name": "python3"
  },
  "language_info": {
   "codemirror_mode": {
    "name": "ipython",
    "version": 3
   },
   "file_extension": ".py",
   "mimetype": "text/x-python",
   "name": "python",
   "nbconvert_exporter": "python",
   "pygments_lexer": "ipython3",
   "version": "3.10.9"
  },
  "orig_nbformat": 4,
  "vscode": {
   "interpreter": {
    "hash": "28fc650845d73aab83bdc507500286fe616ece2d30bb8e41a5997dcdfe1e64ed"
   }
  }
 },
 "nbformat": 4,
 "nbformat_minor": 2
}
