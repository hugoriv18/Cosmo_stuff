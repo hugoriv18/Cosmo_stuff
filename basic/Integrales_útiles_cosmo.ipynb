{
 "cells": [
  {
   "attachments": {},
   "cell_type": "markdown",
   "metadata": {},
   "source": [
    "# Integrales útiles en cosmología\n",
    "\n",
    "#### Hugo Rivera Morales\n",
    "#### Cosmología"
   ]
  },
  {
   "cell_type": "code",
   "execution_count": 1,
   "metadata": {},
   "outputs": [],
   "source": [
    "# Paqueteria\n",
    "import numpy as np\n",
    "from sympy import *\n",
    "from gravipy import *"
   ]
  },
  {
   "attachments": {},
   "cell_type": "markdown",
   "metadata": {},
   "source": [
    "### 1) Primera integral:\n",
    "\n",
    "\\begin{equation*} t = \\frac{1}{H_{0}}\\int^{a}_{0}\\frac{x}{\\sqrt{\\Omega_{r,0}+(1-\\Omega_{r,0})x^2}} \\,dx \\end{equation*}"
   ]
  },
  {
   "cell_type": "code",
   "execution_count": 3,
   "metadata": {},
   "outputs": [
    {
     "data": {
      "text/latex": [
       "$\\displaystyle - \\frac{\\sqrt{\\Omega_{r0}} \\left(\\sqrt{1 + \\frac{a^{2} \\operatorname{polar\\_lift}{\\left(1 - \\Omega_{r0} \\right)}}{\\Omega_{r0}}} - 1\\right)}{H_{0} \\left(\\Omega_{r0} - 1\\right)}$"
      ],
      "text/plain": [
       "-sqrt(\\Omega_{r0})*(sqrt(1 + a**2*polar_lift(1 - \\Omega_{r0})/\\Omega_{r0}) - 1)/(H_0*(\\Omega_{r0} - 1))"
      ]
     },
     "execution_count": 3,
     "metadata": {},
     "output_type": "execute_result"
    }
   ],
   "source": [
    "x = Symbol ('x')\n",
    "H0, a, Omega_r0 = symbols ('H_0, a, \\\\Omega_{r0}', Positive=True)\n",
    "t = (1 / H0)*(x / sqrt(Omega_r0 + (1 - Omega_r0)*x**2))\n",
    "t_1 = integrate(t,(x,0,a))\n",
    "factor(t_1)"
   ]
  },
  {
   "attachments": {},
   "cell_type": "markdown",
   "metadata": {},
   "source": [
    "Despejando el factor de escala:\n",
    "\n",
    "$$ t H_{0}(\\Omega_{r0}-1) = \\sqrt{\\Omega_{r0}}\\left( \\sqrt{1 + \\frac{a^2 (1-\\Omega_{r0})}{\\Omega_{r0}}} -1\\right)$$\n",
    "\n",
    "$$ a^2 = \\left( t H_0 \\Omega_{r0}^{1/2} \\right)^2 (1-\\Omega_{r0}^{-1})-2t H_0 \\Omega_{r0}^{-1}$$\n",
    "\n",
    "$$ a(t) = (2 H_0 \\Omega_{r0}^{1/2}t)\\left( 1 + \\frac{1-\\Omega_{r0}}{2\\Omega_{r0}^{1/2}}H_0 t \\right)^{1/2}$$"
   ]
  },
  {
   "attachments": {},
   "cell_type": "markdown",
   "metadata": {},
   "source": [
    "### 2) Segunda integral:\n",
    "\n",
    "\\begin{equation*} t = \\frac{1}{H_{0}}\\int^{a}_{0}\\frac{x}{\\sqrt{\\Omega_{m,0}x+\\Omega_{r,0}}} \\,dx \\end{equation*}"
   ]
  },
  {
   "cell_type": "code",
   "execution_count": 3,
   "metadata": {},
   "outputs": [
    {
     "data": {
      "text/latex": [
       "$\\displaystyle \\frac{2 \\sqrt{\\Omega_{r0}} \\left(\\Omega_{m0} a \\sqrt{\\frac{\\Omega_{m0} a}{\\Omega_{r0}} + 1} - 2 \\Omega_{r0} \\sqrt{\\frac{\\Omega_{m0} a}{\\Omega_{r0}} + 1} + 2 \\Omega_{r0}\\right)}{3 H_{0} \\Omega_{m0}^{2}}$"
      ],
      "text/plain": [
       "2*sqrt(\\Omega_{r0})*(\\Omega_{m0}*a*sqrt(\\Omega_{m0}*a/\\Omega_{r0} + 1) - 2*\\Omega_{r0}*sqrt(\\Omega_{m0}*a/\\Omega_{r0} + 1) + 2*\\Omega_{r0})/(3*H_0*\\Omega_{m0}**2)"
      ]
     },
     "execution_count": 3,
     "metadata": {},
     "output_type": "execute_result"
    }
   ],
   "source": [
    "Omega2, Omega3 = symbols ('\\\\Omega_{m0}, \\\\Omega_{r0}', Positive=True)\n",
    "t2 = (1 / H0)*(x / sqrt(Omega2*x + (Omega3)))\n",
    "t_2 = simplify(integrate(t2,(x,0,a)))\n",
    "factor(t_2)"
   ]
  },
  {
   "attachments": {},
   "cell_type": "markdown",
   "metadata": {},
   "source": [
    "Nuevamente despejando:\n",
    "\n",
    "$$H_0 t = \\frac{2}{3\\Omega_{m0}^2}\\left[ (\\Omega_{m0}a+\\Omega_{r0})^{1/2}(\\Omega_{m0}a-2\\Omega_{r0}) + 2\\Omega_{r0}^{3/2} \\right]$$"
   ]
  },
  {
   "attachments": {},
   "cell_type": "markdown",
   "metadata": {},
   "source": [
    "### 3) Tercera integral:\n",
    "\n",
    "\\begin{equation*} H_0 t = \\int^{a}_{0}\\sqrt{\\frac{x}{(1-\\Omega_{\\Lambda,0})+\\Omega_{\\Lambda,0}x^3}} \\,dx \\end{equation*}"
   ]
  },
  {
   "attachments": {},
   "cell_type": "markdown",
   "metadata": {},
   "source": [
    "1\\) Para $\\Omega_{\\Lambda,0} > 0$"
   ]
  },
  {
   "cell_type": "code",
   "execution_count": 4,
   "metadata": {},
   "outputs": [
    {
     "data": {
      "text/latex": [
       "$\\displaystyle \\frac{2 \\operatorname{asinh}{\\left(\\frac{x^{3} \\left|{\\Omega_{\\Lambda0}}\\right|}{1 - \\Omega_{\\Lambda0}} \\right)}}{3 \\left|{\\Omega_{\\Lambda0}}\\right|}$"
      ],
      "text/plain": [
       "2*asinh(x**3*Abs(\\Omega_{\\Lambda0})/(1 - \\Omega_{\\Lambda0}))/(3*Abs(\\Omega_{\\Lambda0}))"
      ]
     },
     "execution_count": 4,
     "metadata": {},
     "output_type": "execute_result"
    }
   ],
   "source": [
    "Omega4, y = symbols ('\\\\Omega_{\\\\Lambda0}, y', Positive=True)\n",
    "t3 = (1 / H0) * sqrt(x / ((1 - Omega4) + Omega4*x**3))\n",
    "y2 = (x**3)*abs(Omega4)/(1 - Omega4)\n",
    "Ht = (2/(3*(abs(Omega4))))*(1/(sqrt(1 + y**2)))\n",
    "# integrate(t3,(x,0,a))\n",
    "integrate(Ht,(y,0,y2))"
   ]
  },
  {
   "attachments": {},
   "cell_type": "markdown",
   "metadata": {},
   "source": [
    "1\\) Para $\\Omega_{\\Lambda,0} < 0$"
   ]
  },
  {
   "cell_type": "code",
   "execution_count": 5,
   "metadata": {},
   "outputs": [
    {
     "data": {
      "text/latex": [
       "$\\displaystyle \\frac{2 \\operatorname{asin}{\\left(\\frac{x^{3} \\left|{\\Omega_{\\Lambda0}}\\right|}{1 - \\Omega_{\\Lambda0}} \\right)}}{3 \\left|{\\Omega_{\\Lambda0}}\\right|}$"
      ],
      "text/plain": [
       "2*asin(x**3*Abs(\\Omega_{\\Lambda0})/(1 - \\Omega_{\\Lambda0}))/(3*Abs(\\Omega_{\\Lambda0}))"
      ]
     },
     "execution_count": 5,
     "metadata": {},
     "output_type": "execute_result"
    }
   ],
   "source": [
    "Ht = (2/(3*(abs(Omega4))))*(1/(sqrt(1 - y**2)))\n",
    "integrate(Ht,(y,0,y2))"
   ]
  }
 ],
 "metadata": {
  "kernelspec": {
   "display_name": "mexico",
   "language": "python",
   "name": "python3"
  },
  "language_info": {
   "codemirror_mode": {
    "name": "ipython",
    "version": 3
   },
   "file_extension": ".py",
   "mimetype": "text/x-python",
   "name": "python",
   "nbconvert_exporter": "python",
   "pygments_lexer": "ipython3",
   "version": "3.10.9"
  },
  "orig_nbformat": 4,
  "vscode": {
   "interpreter": {
    "hash": "28fc650845d73aab83bdc507500286fe616ece2d30bb8e41a5997dcdfe1e64ed"
   }
  }
 },
 "nbformat": 4,
 "nbformat_minor": 2
}
