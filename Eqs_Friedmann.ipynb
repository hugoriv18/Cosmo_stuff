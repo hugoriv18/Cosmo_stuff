{
 "cells": [
  {
   "attachments": {},
   "cell_type": "markdown",
   "metadata": {},
   "source": [
    "# Ecuaciones de Friedmann\n",
    "\n",
    "#### Hugo Rivera Morales\n",
    "#### Cosmología"
   ]
  },
  {
   "cell_type": "code",
   "execution_count": 1,
   "metadata": {},
   "outputs": [],
   "source": [
    "# Paqueterias\n",
    "from gravipy.tensorial import *\n",
    "from sympy import *\n",
    "import sympy as sp\n",
    "import numpy as np\n",
    "import inspect\n",
    "init_printing()"
   ]
  },
  {
   "cell_type": "code",
   "execution_count": 2,
   "metadata": {},
   "outputs": [],
   "source": [
    "# Variables\n",
    "# Simbolos\n",
    "t, r, theta, phi, c, a, k, rho, p = sp.symbols('t, r, \\\\theta, \\phi, c, a, k, \\\\rho, p')\n",
    "# Scale factor a(t)\n",
    "a = Function('a')(t)\n",
    "# Vector de space-time. x^mu\n",
    "x = Coordinates('\\chi', [t, r, theta, phi]) # Coord. esféricas\n",
    "# Metrica\n",
    "Metric = diag(c**2, -a**2/(1 - k*r**2), -(a*r)**2,-a**2*r**2*sin(theta)**2)\n",
    "# Metric tensor\n",
    "g = MetricTensor('g',x,Metric)"
   ]
  },
  {
   "attachments": {},
   "cell_type": "markdown",
   "metadata": {},
   "source": [
    "Metric:"
   ]
  },
  {
   "cell_type": "code",
   "execution_count": 3,
   "metadata": {},
   "outputs": [
    {
     "data": {
      "text/latex": [
       "$\\displaystyle \\left[\\begin{matrix}c^{2} & 0 & 0 & 0\\\\0 & - \\frac{a^{2}{\\left(t \\right)}}{- k r^{2} + 1} & 0 & 0\\\\0 & 0 & - r^{2} a^{2}{\\left(t \\right)} & 0\\\\0 & 0 & 0 & - r^{2} a^{2}{\\left(t \\right)} \\sin^{2}{\\left(\\theta \\right)}\\end{matrix}\\right]$"
      ],
      "text/plain": [
       "⎡ 2                                               ⎤\n",
       "⎢c       0           0                0           ⎥\n",
       "⎢                                                 ⎥\n",
       "⎢       2                                         ⎥\n",
       "⎢     -a (t)                                      ⎥\n",
       "⎢0   ──────────      0                0           ⎥\n",
       "⎢         2                                       ⎥\n",
       "⎢    - k⋅r  + 1                                   ⎥\n",
       "⎢                                                 ⎥\n",
       "⎢                  2  2                           ⎥\n",
       "⎢0       0       -r ⋅a (t)            0           ⎥\n",
       "⎢                                                 ⎥\n",
       "⎢                             2  2       2        ⎥\n",
       "⎣0       0           0      -r ⋅a (t)⋅sin (\\theta)⎦"
      ]
     },
     "execution_count": 3,
     "metadata": {},
     "output_type": "execute_result"
    }
   ],
   "source": [
    "g(All, All)"
   ]
  },
  {
   "attachments": {},
   "cell_type": "markdown",
   "metadata": {},
   "source": [
    "Einstein Tensor:"
   ]
  },
  {
   "cell_type": "code",
   "execution_count": 4,
   "metadata": {},
   "outputs": [
    {
     "data": {
      "text/latex": [
       "$\\displaystyle \\left[\\begin{matrix}\\frac{3 \\left(c^{2} k + \\left(\\frac{d}{d t} a{\\left(t \\right)}\\right)^{2}\\right)}{a^{2}{\\left(t \\right)}} & 0 & 0 & 0\\\\0 & \\frac{c^{2} k + 2 a{\\left(t \\right)} \\frac{d^{2}}{d t^{2}} a{\\left(t \\right)} + \\left(\\frac{d}{d t} a{\\left(t \\right)}\\right)^{2}}{c^{2} \\left(k r^{2} - 1\\right)} & 0 & 0\\\\0 & 0 & \\frac{r^{2} \\left(- c^{2} k - 2 a{\\left(t \\right)} \\frac{d^{2}}{d t^{2}} a{\\left(t \\right)} - \\left(\\frac{d}{d t} a{\\left(t \\right)}\\right)^{2}\\right)}{c^{2}} & 0\\\\0 & 0 & 0 & \\frac{r^{2} \\left(- c^{2} k - 2 a{\\left(t \\right)} \\frac{d^{2}}{d t^{2}} a{\\left(t \\right)} - \\left(\\frac{d}{d t} a{\\left(t \\right)}\\right)^{2}\\right) \\sin^{2}{\\left(\\theta \\right)}}{c^{2}}\\end{matrix}\\right]$"
      ],
      "text/plain": [
       "⎡  ⎛                 2⎞                                                       \n",
       "⎢  ⎜ 2     ⎛d       ⎞ ⎟                                                       \n",
       "⎢3⋅⎜c ⋅k + ⎜──(a(t))⎟ ⎟                                                       \n",
       "⎢  ⎝       ⎝dt      ⎠ ⎠                                                       \n",
       "⎢──────────────────────                    0                                  \n",
       "⎢         2                                                                   \n",
       "⎢        a (t)                                                                \n",
       "⎢                                                                             \n",
       "⎢                                        2                   2                \n",
       "⎢                         2             d          ⎛d       ⎞                 \n",
       "⎢                        c ⋅k + 2⋅a(t)⋅───(a(t)) + ⎜──(a(t))⎟                 \n",
       "⎢                                        2         ⎝dt      ⎠                 \n",
       "⎢                                      dt                                     \n",
       "⎢          0             ─────────────────────────────────────                \n",
       "⎢                                     2 ⎛   2    ⎞                            \n",
       "⎢                                    c ⋅⎝k⋅r  - 1⎠                            \n",
       "⎢                                                                             \n",
       "⎢                                                                  ⎛          \n",
       "⎢                                                                2 ⎜   2      \n",
       "⎢                                                               r ⋅⎜- c ⋅k - 2\n",
       "⎢                                                                  ⎜          \n",
       "⎢                                                                  ⎝          \n",
       "⎢          0                               0                    ──────────────\n",
       "⎢                                                                             \n",
       "⎢                                                                             \n",
       "⎢                                                                             \n",
       "⎢                                                                             \n",
       "⎢                                                                             \n",
       "⎢                                                                             \n",
       "⎢                                                                             \n",
       "⎢                                                                             \n",
       "⎢          0                               0                                  \n",
       "⎢                                                                             \n",
       "⎣                                                                             \n",
       "\n",
       "                                                                              \n",
       "                                                                              \n",
       "                                                                              \n",
       "                                                                              \n",
       "       0                                                    0                 \n",
       "                                                                              \n",
       "                                                                              \n",
       "                                                                              \n",
       "                                                                              \n",
       "                                                                              \n",
       "                                                                              \n",
       "                                                                              \n",
       "                                                                              \n",
       "       0                                                    0                 \n",
       "                                                                              \n",
       "                                                                              \n",
       "                                                                              \n",
       "        2                   2⎞                                                \n",
       "       d          ⎛d       ⎞ ⎟                                                \n",
       "⋅a(t)⋅───(a(t)) - ⎜──(a(t))⎟ ⎟                                                \n",
       "        2         ⎝dt      ⎠ ⎟                                                \n",
       "      dt                     ⎠                                                \n",
       "──────────────────────────────                              0                 \n",
       "        2                                                                     \n",
       "       c                                                                      \n",
       "                                                                              \n",
       "                                   ⎛                  2                   2⎞  \n",
       "                                 2 ⎜   2             d          ⎛d       ⎞ ⎟  \n",
       "                                r ⋅⎜- c ⋅k - 2⋅a(t)⋅───(a(t)) - ⎜──(a(t))⎟ ⎟⋅s\n",
       "                                   ⎜                  2         ⎝dt      ⎠ ⎟  \n",
       "                                   ⎝                dt                     ⎠  \n",
       "       0                        ──────────────────────────────────────────────\n",
       "                                                             2                \n",
       "                                                            c                 \n",
       "\n",
       "           ⎤\n",
       "           ⎥\n",
       "           ⎥\n",
       "           ⎥\n",
       "           ⎥\n",
       "           ⎥\n",
       "           ⎥\n",
       "           ⎥\n",
       "           ⎥\n",
       "           ⎥\n",
       "           ⎥\n",
       "           ⎥\n",
       "           ⎥\n",
       "           ⎥\n",
       "           ⎥\n",
       "           ⎥\n",
       "           ⎥\n",
       "           ⎥\n",
       "           ⎥\n",
       "           ⎥\n",
       "           ⎥\n",
       "           ⎥\n",
       "           ⎥\n",
       "           ⎥\n",
       "           ⎥\n",
       "           ⎥\n",
       "           ⎥\n",
       "  2        ⎥\n",
       "in (\\theta)⎥\n",
       "           ⎥\n",
       "           ⎥\n",
       "───────────⎥\n",
       "           ⎥\n",
       "           ⎦"
      ]
     },
     "execution_count": 4,
     "metadata": {},
     "output_type": "execute_result"
    }
   ],
   "source": [
    "Ga = Christoffel('Ga', g)\n",
    "Ri = Ricci('Ri', g)\n",
    "G = Einstein('G', Ri)\n",
    "G(All, All)"
   ]
  },
  {
   "attachments": {},
   "cell_type": "markdown",
   "metadata": {},
   "source": [
    "Se utilzan las ecuaciones de campo de Einstein:\n",
    "\n",
    "$${G^{\\mu}}_{\\nu} = \\frac{8\\pi G}{c^4}{T^{\\mu}}_{\\nu}$$\n",
    "\n",
    "Donde el tensor de energía momento está dado como $$ {T^{\\mu}}_{\\nu}=\\text{diag}(c^2\\rho,-p,-p,-p) $$"
   ]
  },
  {
   "cell_type": "markdown",
   "metadata": {},
   "source": [
    "### Friedmann equations"
   ]
  },
  {
   "attachments": {},
   "cell_type": "markdown",
   "metadata": {},
   "source": [
    "##### 1) Friedmann equation: ${G^{0}}_0 = \\frac{8\\pi G}{c^4}{T^{0}}_0$"
   ]
  },
  {
   "cell_type": "code",
   "execution_count": 5,
   "metadata": {},
   "outputs": [
    {
     "data": {
      "image/png": "[encoded data removed]",
      "text/latex": [
       "$\\displaystyle \\frac{3 \\left(c^{2} k + \\left(\\frac{d}{d t} a{\\left(t \\right)}\\right)^{2}\\right)}{c^{2} a^{2}{\\left(t \\right)}}$"
      ],
      "text/plain": [
       "  ⎛                 2⎞\n",
       "  ⎜ 2     ⎛d       ⎞ ⎟\n",
       "3⋅⎜c ⋅k + ⎜──(a(t))⎟ ⎟\n",
       "  ⎝       ⎝dt      ⎠ ⎠\n",
       "──────────────────────\n",
       "        2  2          \n",
       "       c ⋅a (t)       "
      ]
     },
     "execution_count": 5,
     "metadata": {},
     "output_type": "execute_result"
    }
   ],
   "source": [
    "G(-1,1)"
   ]
  },
  {
   "attachments": {},
   "cell_type": "markdown",
   "metadata": {},
   "source": [
    "De la ecuación anterior"
   ]
  },
  {
   "attachments": {},
   "cell_type": "markdown",
   "metadata": {},
   "source": [
    "\\begin{align*}\n",
    "\\frac{3\\left( c^2 k + \\dot{a}^2 \\right)}{c^2a^2} &= \\frac{8\\pi G}{c^4}(c^2\\rho)\\\\\n",
    "\\frac{c^2 k}{a^2} + \\frac{\\dot{a}^2}{a^2} &= \\frac{8\\pi G}{3}\\rho\n",
    "\\end{align*}"
   ]
  },
  {
   "attachments": {},
   "cell_type": "markdown",
   "metadata": {},
   "source": [
    "#### $$\\left(\\frac{\\dot{a}}{a}\\right)^2 = \\frac{8\\pi G}{3}\\rho -\\frac{kc^2 }{a^2}$$"
   ]
  },
  {
   "attachments": {},
   "cell_type": "markdown",
   "metadata": {},
   "source": [
    "##### 2) Deceleration equation: ${G^{i}}_j = \\frac{8\\pi G}{c^4}{T^{i}}_j$"
   ]
  },
  {
   "cell_type": "code",
   "execution_count": 6,
   "metadata": {},
   "outputs": [
    {
     "data": {
      "image/png": "[encoded data removed]",
      "text/latex": [
       "$\\displaystyle \\frac{c^{2} k + 2 a{\\left(t \\right)} \\frac{d^{2}}{d t^{2}} a{\\left(t \\right)} + \\left(\\frac{d}{d t} a{\\left(t \\right)}\\right)^{2}}{c^{2} a^{2}{\\left(t \\right)}}$"
      ],
      "text/plain": [
       "                2                   2\n",
       " 2             d          ⎛d       ⎞ \n",
       "c ⋅k + 2⋅a(t)⋅───(a(t)) + ⎜──(a(t))⎟ \n",
       "                2         ⎝dt      ⎠ \n",
       "              dt                     \n",
       "─────────────────────────────────────\n",
       "                2  2                 \n",
       "               c ⋅a (t)              "
      ]
     },
     "execution_count": 6,
     "metadata": {},
     "output_type": "execute_result"
    }
   ],
   "source": [
    "simplify(G(-2,2))"
   ]
  },
  {
   "cell_type": "code",
   "execution_count": 7,
   "metadata": {},
   "outputs": [
    {
     "data": {
      "image/png": "[encoded data removed]",
      "text/latex": [
       "$\\displaystyle \\frac{c^{2} k + 2 a{\\left(t \\right)} \\frac{d^{2}}{d t^{2}} a{\\left(t \\right)} + \\left(\\frac{d}{d t} a{\\left(t \\right)}\\right)^{2}}{c^{2} a^{2}{\\left(t \\right)}}$"
      ],
      "text/plain": [
       "                2                   2\n",
       " 2             d          ⎛d       ⎞ \n",
       "c ⋅k + 2⋅a(t)⋅───(a(t)) + ⎜──(a(t))⎟ \n",
       "                2         ⎝dt      ⎠ \n",
       "              dt                     \n",
       "─────────────────────────────────────\n",
       "                2  2                 \n",
       "               c ⋅a (t)              "
      ]
     },
     "execution_count": 7,
     "metadata": {},
     "output_type": "execute_result"
    }
   ],
   "source": [
    "simplify(G(-3,3))"
   ]
  },
  {
   "cell_type": "code",
   "execution_count": 8,
   "metadata": {},
   "outputs": [
    {
     "data": {
      "image/png": "[encoded data removed]",
      "text/latex": [
       "$\\displaystyle \\frac{c^{2} k + 2 a{\\left(t \\right)} \\frac{d^{2}}{d t^{2}} a{\\left(t \\right)} + \\left(\\frac{d}{d t} a{\\left(t \\right)}\\right)^{2}}{c^{2} a^{2}{\\left(t \\right)}}$"
      ],
      "text/plain": [
       "                2                   2\n",
       " 2             d          ⎛d       ⎞ \n",
       "c ⋅k + 2⋅a(t)⋅───(a(t)) + ⎜──(a(t))⎟ \n",
       "                2         ⎝dt      ⎠ \n",
       "              dt                     \n",
       "─────────────────────────────────────\n",
       "                2  2                 \n",
       "               c ⋅a (t)              "
      ]
     },
     "execution_count": 8,
     "metadata": {},
     "output_type": "execute_result"
    }
   ],
   "source": [
    "simplify(G(-4,4))"
   ]
  },
  {
   "attachments": {},
   "cell_type": "markdown",
   "metadata": {},
   "source": [
    "De las ecuaciones anteriores"
   ]
  },
  {
   "attachments": {},
   "cell_type": "markdown",
   "metadata": {},
   "source": [
    "\\begin{align*}\n",
    "\\frac{c^2 k + 2a\\ddot{a} + \\dot{a}^2}{c^2a^2} &= \\frac{8\\pi G}{c^4}(-p)\\\\\n",
    "\\frac{\\ddot{a}}{a} + \\frac{1}{2}\\left(\\frac{c^2 k}{a^2} + \\left(\\frac{\\dot{a}}{a}\\right)^2\\right) &= -\\frac{4\\pi G}{3}\\frac{p}{c^2}\n",
    "\\end{align*}\n",
    "\n",
    "Utilizando el resultado de la ecuación anterior:\n",
    "\n",
    "\\begin{align*}\n",
    "\\frac{\\ddot{a}}{a} + \\frac{1}{2}\\left(\\frac{8\\pi G}{3}\\rho\\right) &= -4\\pi G \\frac{p}{c^2}\n",
    "\\end{align*}"
   ]
  },
  {
   "attachments": {},
   "cell_type": "markdown",
   "metadata": {},
   "source": [
    "#### $$\\frac{\\ddot{a}}{a} + \\frac{4\\pi G}{3}\\left( \\rho + 3\\frac{p}{c^2} \\right) = 0$$"
   ]
  }
 ],
 "metadata": {
  "kernelspec": {
   "display_name": "mexico",
   "language": "python",
   "name": "python3"
  },
  "language_info": {
   "codemirror_mode": {
    "name": "ipython",
    "version": 3
   },
   "file_extension": ".py",
   "mimetype": "text/x-python",
   "name": "python",
   "nbconvert_exporter": "python",
   "pygments_lexer": "ipython3",
   "version": "3.10.9"
  },
  "orig_nbformat": 4,
  "vscode": {
   "interpreter": {
    "hash": "28fc650845d73aab83bdc507500286fe616ece2d30bb8e41a5997dcdfe1e64ed"
   }
  }
 },
 "nbformat": 4,
 "nbformat_minor": 2
}
