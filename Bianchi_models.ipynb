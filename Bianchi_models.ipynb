{
 "cells": [
  {
   "attachments": {},
   "cell_type": "markdown",
   "metadata": {},
   "source": [
    "# The Bianchi models\n",
    "\n",
    "#### Hugo Rivera Morales\n",
    "#### Cosmología"
   ]
  },
  {
   "cell_type": "code",
   "execution_count": 1,
   "metadata": {},
   "outputs": [],
   "source": [
    "# Paqueterias\n",
    "from gravipy.tensorial import *\n",
    "from sympy import *\n",
    "import sympy as sp\n",
    "import numpy as np\n",
    "import inspect\n",
    "init_printing()"
   ]
  },
  {
   "cell_type": "code",
   "execution_count": 2,
   "metadata": {},
   "outputs": [],
   "source": [
    "# Constantes\n",
    "# Simbolos\n",
    "t, x, y, z, A, B, C, alpha = sp.symbols('t, x, y, z, A, B, C, \\\\alpha')\n",
    "# Funciones\n",
    "A = Function('A')(t)\n",
    "B = Function('B')(t)\n",
    "C = Function('C')(t)\n",
    "# Space-time coords. x^mu\n",
    "X = Coordinates('\\chi', [t, x, y, z])\n",
    "# Metric\n",
    "Metric = diag(1,-A**2, -B**2*exp(-2*alpha*x), -C**2)\n",
    "# Metric tensor\n",
    "g = MetricTensor('g',X,Metric)"
   ]
  },
  {
   "attachments": {},
   "cell_type": "markdown",
   "metadata": {},
   "source": [
    "Metric:"
   ]
  },
  {
   "cell_type": "code",
   "execution_count": 3,
   "metadata": {},
   "outputs": [
    {
     "data": {
      "text/latex": [
       "$\\displaystyle \\left[\\begin{matrix}1 & 0 & 0 & 0\\\\0 & - A^{2}{\\left(t \\right)} & 0 & 0\\\\0 & 0 & - B^{2}{\\left(t \\right)} e^{- 2 \\alpha x} & 0\\\\0 & 0 & 0 & - C^{2}{\\left(t \\right)}\\end{matrix}\\right]$"
      ],
      "text/plain": [
       "⎡1    0              0             0   ⎤\n",
       "⎢                                      ⎥\n",
       "⎢     2                                ⎥\n",
       "⎢0  -A (t)           0             0   ⎥\n",
       "⎢                                      ⎥\n",
       "⎢             2     -2⋅\\alpha⋅x        ⎥\n",
       "⎢0    0     -B (t)⋅ℯ               0   ⎥\n",
       "⎢                                      ⎥\n",
       "⎢                                  2   ⎥\n",
       "⎣0    0              0           -C (t)⎦"
      ]
     },
     "execution_count": 3,
     "metadata": {},
     "output_type": "execute_result"
    }
   ],
   "source": [
    "g(All, All)"
   ]
  },
  {
   "attachments": {},
   "cell_type": "markdown",
   "metadata": {},
   "source": [
    "Contravariant Metric:"
   ]
  },
  {
   "cell_type": "code",
   "execution_count": 4,
   "metadata": {},
   "outputs": [
    {
     "data": {
      "text/latex": [
       "$\\displaystyle \\left[\\begin{matrix}1 & 0 & 0 & 0\\\\0 & - \\frac{1}{A^{2}{\\left(t \\right)}} & 0 & 0\\\\0 & 0 & - \\frac{e^{2 \\alpha x}}{B^{2}{\\left(t \\right)}} & 0\\\\0 & 0 & 0 & - \\frac{1}{C^{2}{\\left(t \\right)}}\\end{matrix}\\right]$"
      ],
      "text/plain": [
       "⎡1    0          0          0  ⎤\n",
       "⎢                              ⎥\n",
       "⎢    -1                        ⎥\n",
       "⎢0  ─────        0          0  ⎥\n",
       "⎢    2                         ⎥\n",
       "⎢   A (t)                      ⎥\n",
       "⎢                              ⎥\n",
       "⎢            2⋅\\alpha⋅x        ⎥\n",
       "⎢          -ℯ                  ⎥\n",
       "⎢0    0    ─────────────    0  ⎥\n",
       "⎢               2              ⎥\n",
       "⎢              B (t)           ⎥\n",
       "⎢                              ⎥\n",
       "⎢                          -1  ⎥\n",
       "⎢0    0          0        ─────⎥\n",
       "⎢                          2   ⎥\n",
       "⎣                         C (t)⎦"
      ]
     },
     "execution_count": 4,
     "metadata": {},
     "output_type": "execute_result"
    }
   ],
   "source": [
    "g(-All, -All)"
   ]
  },
  {
   "attachments": {},
   "cell_type": "markdown",
   "metadata": {},
   "source": [
    "Einstein Tensor:"
   ]
  },
  {
   "cell_type": "code",
   "execution_count": 5,
   "metadata": {},
   "outputs": [
    {
     "data": {
      "text/latex": [
       "$\\displaystyle \\left[\\begin{matrix}- \\frac{\\alpha^{2}}{A^{2}{\\left(t \\right)}} + \\frac{\\frac{d}{d t} B{\\left(t \\right)} \\frac{d}{d t} C{\\left(t \\right)}}{B{\\left(t \\right)} C{\\left(t \\right)}} + \\frac{\\frac{d}{d t} A{\\left(t \\right)} \\frac{d}{d t} C{\\left(t \\right)}}{A{\\left(t \\right)} C{\\left(t \\right)}} + \\frac{\\frac{d}{d t} A{\\left(t \\right)} \\frac{d}{d t} B{\\left(t \\right)}}{A{\\left(t \\right)} B{\\left(t \\right)}} & \\frac{\\alpha \\frac{d}{d t} B{\\left(t \\right)}}{B{\\left(t \\right)}} - \\frac{\\alpha \\frac{d}{d t} A{\\left(t \\right)}}{A{\\left(t \\right)}} & 0 & 0\\\\\\frac{\\alpha \\frac{d}{d t} B{\\left(t \\right)}}{B{\\left(t \\right)}} - \\frac{\\alpha \\frac{d}{d t} A{\\left(t \\right)}}{A{\\left(t \\right)}} & \\frac{\\left(- B{\\left(t \\right)} \\frac{d^{2}}{d t^{2}} C{\\left(t \\right)} - C{\\left(t \\right)} \\frac{d^{2}}{d t^{2}} B{\\left(t \\right)} - \\frac{d}{d t} B{\\left(t \\right)} \\frac{d}{d t} C{\\left(t \\right)}\\right) A^{2}{\\left(t \\right)}}{B{\\left(t \\right)} C{\\left(t \\right)}} & 0 & 0\\\\0 & 0 & - \\frac{\\left(A{\\left(t \\right)} \\frac{d^{2}}{d t^{2}} C{\\left(t \\right)} + C{\\left(t \\right)} \\frac{d^{2}}{d t^{2}} A{\\left(t \\right)} + \\frac{d}{d t} A{\\left(t \\right)} \\frac{d}{d t} C{\\left(t \\right)}\\right) B^{2}{\\left(t \\right)} e^{- 2 \\alpha x}}{A{\\left(t \\right)} C{\\left(t \\right)}} & 0\\\\0 & 0 & 0 & \\frac{\\left(\\alpha^{2} B{\\left(t \\right)} - A^{2}{\\left(t \\right)} \\frac{d^{2}}{d t^{2}} B{\\left(t \\right)} - A{\\left(t \\right)} B{\\left(t \\right)} \\frac{d^{2}}{d t^{2}} A{\\left(t \\right)} - A{\\left(t \\right)} \\frac{d}{d t} A{\\left(t \\right)} \\frac{d}{d t} B{\\left(t \\right)}\\right) C^{2}{\\left(t \\right)}}{A^{2}{\\left(t \\right)} B{\\left(t \\right)}}\\end{matrix}\\right]$"
      ],
      "text/plain": [
       "⎡            d        d          d        d          d        d               \n",
       "⎢        2   ──(B(t))⋅──(C(t))   ──(A(t))⋅──(C(t))   ──(A(t))⋅──(B(t))        \n",
       "⎢  \\alpha    dt       dt         dt       dt         dt       dt              \n",
       "⎢- ─────── + ───────────────── + ───────────────── + ─────────────────        \n",
       "⎢    2           B(t)⋅C(t)           A(t)⋅C(t)           A(t)⋅B(t)            \n",
       "⎢   A (t)                                                                     \n",
       "⎢                                                                             \n",
       "⎢                                                                       ⎛     \n",
       "⎢                                                                       ⎜     \n",
       "⎢                         d                 d                           ⎜- B(t\n",
       "⎢                  \\alpha⋅──(B(t))   \\alpha⋅──(A(t))                    ⎜     \n",
       "⎢                         dt                dt                          ⎝     \n",
       "⎢                  ─────────────── - ───────────────                    ──────\n",
       "⎢                        B(t)              A(t)                               \n",
       "⎢                                                                             \n",
       "⎢                                                                             \n",
       "⎢                                                                             \n",
       "⎢                                                                             \n",
       "⎢                                                                             \n",
       "⎢                                                                             \n",
       "⎢                                  0                                          \n",
       "⎢                                                                             \n",
       "⎢                                                                             \n",
       "⎢                                                                             \n",
       "⎢                                                                             \n",
       "⎢                                                                             \n",
       "⎢                                                                             \n",
       "⎢                                                                             \n",
       "⎢                                  0                                          \n",
       "⎢                                                                             \n",
       "⎣                                                                             \n",
       "\n",
       "               d                 d                                            \n",
       "        \\alpha⋅──(B(t))   \\alpha⋅──(A(t))                                     \n",
       "               dt                dt                                           \n",
       "        ─────────────── - ───────────────                                     \n",
       "              B(t)              A(t)                                          \n",
       "                                                                              \n",
       "                                                                              \n",
       "    2                2                          ⎞                             \n",
       "   d                d          d        d       ⎟  2                          \n",
       ")⋅───(C(t)) - C(t)⋅───(B(t)) - ──(B(t))⋅──(C(t))⎟⋅A (t)                       \n",
       "    2                2         dt       dt      ⎟                             \n",
       "  dt               dt                           ⎠                             \n",
       "───────────────────────────────────────────────────────                       \n",
       "                    B(t)⋅C(t)                                                 \n",
       "                                                                              \n",
       "                                                          ⎛       2           \n",
       "                                                          ⎜      d            \n",
       "                                                         -⎜A(t)⋅───(C(t)) + C(\n",
       "                                                          ⎜       2           \n",
       "                                                          ⎝     dt            \n",
       "                        0                                ─────────────────────\n",
       "                                                                              \n",
       "                                                                              \n",
       "                                                                              \n",
       "                                                                              \n",
       "                                                                              \n",
       "                                                                              \n",
       "                                                                              \n",
       "                        0                                                     \n",
       "                                                                              \n",
       "                                                                              \n",
       "\n",
       "                                                                              \n",
       "                                                                              \n",
       "                                                                              \n",
       "               0                                                              \n",
       "                                                                              \n",
       "                                                                              \n",
       "                                                                              \n",
       "                                                                              \n",
       "                                                                              \n",
       "                                                                              \n",
       "                                                                              \n",
       "                                                                              \n",
       "               0                                                              \n",
       "                                                                              \n",
       "                                                                              \n",
       "     2                          ⎞                                             \n",
       "    d          d        d       ⎟  2     -2⋅\\alpha⋅x                          \n",
       "t)⋅───(A(t)) + ──(A(t))⋅──(C(t))⎟⋅B (t)⋅ℯ                                     \n",
       "     2         dt       dt      ⎟                                             \n",
       "   dt                           ⎠                                             \n",
       "─────────────────────────────────────────────────────                         \n",
       "           A(t)⋅C(t)                                                          \n",
       "                                                                              \n",
       "                                                       ⎛                      \n",
       "                                                       ⎜      2         2     \n",
       "                                                       ⎜\\alpha ⋅B(t) - A (t)⋅─\n",
       "                                                       ⎜                      \n",
       "                                                       ⎝                     d\n",
       "               0                                       ───────────────────────\n",
       "                                                                              \n",
       "                                                                              \n",
       "\n",
       "                                                              ⎤\n",
       "                                                              ⎥\n",
       "                                                              ⎥\n",
       "                   0                                          ⎥\n",
       "                                                              ⎥\n",
       "                                                              ⎥\n",
       "                                                              ⎥\n",
       "                                                              ⎥\n",
       "                                                              ⎥\n",
       "                                                              ⎥\n",
       "                                                              ⎥\n",
       "                                                              ⎥\n",
       "                   0                                          ⎥\n",
       "                                                              ⎥\n",
       "                                                              ⎥\n",
       "                                                              ⎥\n",
       "                                                              ⎥\n",
       "                                                              ⎥\n",
       "                                                              ⎥\n",
       "                                                              ⎥\n",
       "                   0                                          ⎥\n",
       "                                                              ⎥\n",
       "                                                              ⎥\n",
       " 2                     2                               ⎞      ⎥\n",
       "d                     d               d        d       ⎟  2   ⎥\n",
       "──(B(t)) - A(t)⋅B(t)⋅───(A(t)) - A(t)⋅──(A(t))⋅──(B(t))⎟⋅C (t)⎥\n",
       " 2                     2              dt       dt      ⎟      ⎥\n",
       "t                    dt                                ⎠      ⎥\n",
       "──────────────────────────────────────────────────────────────⎥\n",
       "                2                                             ⎥\n",
       "               A (t)⋅B(t)                                     ⎦"
      ]
     },
     "execution_count": 5,
     "metadata": {},
     "output_type": "execute_result"
    }
   ],
   "source": [
    "Ga = Christoffel('Ga', g)\n",
    "Ri = Ricci('Ri', g)\n",
    "G = Einstein('G', Ri)\n",
    "G(All, All)"
   ]
  },
  {
   "attachments": {},
   "cell_type": "markdown",
   "metadata": {},
   "source": [
    "### Ecuaciones de Einstein:"
   ]
  },
  {
   "attachments": {},
   "cell_type": "markdown",
   "metadata": {},
   "source": [
    "##### 1) ${G_0}^0={T_0}^0$ :"
   ]
  },
  {
   "cell_type": "code",
   "execution_count": 6,
   "metadata": {},
   "outputs": [
    {
     "data": {
      "image/png": "[encoded data removed]",
      "text/latex": [
       "$\\displaystyle - \\frac{\\alpha^{2}}{A^{2}{\\left(t \\right)}} + \\frac{\\frac{d}{d t} B{\\left(t \\right)} \\frac{d}{d t} C{\\left(t \\right)}}{B{\\left(t \\right)} C{\\left(t \\right)}} + \\frac{\\frac{d}{d t} A{\\left(t \\right)} \\frac{d}{d t} C{\\left(t \\right)}}{A{\\left(t \\right)} C{\\left(t \\right)}} + \\frac{\\frac{d}{d t} A{\\left(t \\right)} \\frac{d}{d t} B{\\left(t \\right)}}{A{\\left(t \\right)} B{\\left(t \\right)}}$"
      ],
      "text/plain": [
       "            d        d          d        d          d        d       \n",
       "        2   ──(B(t))⋅──(C(t))   ──(A(t))⋅──(C(t))   ──(A(t))⋅──(B(t))\n",
       "  \\alpha    dt       dt         dt       dt         dt       dt      \n",
       "- ─────── + ───────────────── + ───────────────── + ─────────────────\n",
       "    2           B(t)⋅C(t)           A(t)⋅C(t)           A(t)⋅B(t)    \n",
       "   A (t)                                                             "
      ]
     },
     "execution_count": 6,
     "metadata": {},
     "output_type": "execute_result"
    }
   ],
   "source": [
    "simplify(G(1,-1))"
   ]
  },
  {
   "attachments": {},
   "cell_type": "markdown",
   "metadata": {},
   "source": [
    "Igualando ${G_0}^0={T_0}^0$\n",
    "\n",
    "\\begin{equation*} -\\frac{\\alpha^2}{A^2} + \\frac{\\dot{B}\\dot{C}}{BC} + \\frac{\\dot{A}\\dot{C}}{AC} + \\frac{\\dot{A}\\dot{B}}{AB} = \\rho\\end{equation*}"
   ]
  },
  {
   "attachments": {},
   "cell_type": "markdown",
   "metadata": {},
   "source": [
    "##### 2) ${G_1}^1={T_1}^1$ :"
   ]
  },
  {
   "cell_type": "code",
   "execution_count": 7,
   "metadata": {},
   "outputs": [
    {
     "data": {
      "image/png": "[encoded data removed]",
      "text/latex": [
       "$\\displaystyle \\frac{B{\\left(t \\right)} \\frac{d^{2}}{d t^{2}} C{\\left(t \\right)} + C{\\left(t \\right)} \\frac{d^{2}}{d t^{2}} B{\\left(t \\right)} + \\frac{d}{d t} B{\\left(t \\right)} \\frac{d}{d t} C{\\left(t \\right)}}{B{\\left(t \\right)} C{\\left(t \\right)}}$"
      ],
      "text/plain": [
       "       2                2                          \n",
       "      d                d          d        d       \n",
       "B(t)⋅───(C(t)) + C(t)⋅───(B(t)) + ──(B(t))⋅──(C(t))\n",
       "       2                2         dt       dt      \n",
       "     dt               dt                           \n",
       "───────────────────────────────────────────────────\n",
       "                     B(t)⋅C(t)                     "
      ]
     },
     "execution_count": 7,
     "metadata": {},
     "output_type": "execute_result"
    }
   ],
   "source": [
    "simplify(G(2,-2))"
   ]
  },
  {
   "attachments": {},
   "cell_type": "markdown",
   "metadata": {},
   "source": [
    "Igualando ${G_1}^1={T_1}^1$\n",
    "\n",
    "\\begin{align*} \\frac{B\\ddot{C}}{BC} + \\frac{C\\ddot{B}}{BC} + \\frac{\\dot{B}\\dot{C}}{BC} &= -w\\rho\\\\\n",
    "\\frac{\\ddot{C}}{C} + \\frac{\\ddot{B}}{B} + \\frac{\\dot{B}\\dot{C}}{BC} &= -w\\rho \\end{align*}"
   ]
  },
  {
   "attachments": {},
   "cell_type": "markdown",
   "metadata": {},
   "source": [
    "##### 3) ${G_2}^2={T_2}^2$ :"
   ]
  },
  {
   "cell_type": "code",
   "execution_count": 8,
   "metadata": {},
   "outputs": [
    {
     "data": {
      "image/png": "[encoded data removed]",
      "text/latex": [
       "$\\displaystyle \\frac{A{\\left(t \\right)} \\frac{d^{2}}{d t^{2}} C{\\left(t \\right)} + C{\\left(t \\right)} \\frac{d^{2}}{d t^{2}} A{\\left(t \\right)} + \\frac{d}{d t} A{\\left(t \\right)} \\frac{d}{d t} C{\\left(t \\right)}}{A{\\left(t \\right)} C{\\left(t \\right)}}$"
      ],
      "text/plain": [
       "       2                2                          \n",
       "      d                d          d        d       \n",
       "A(t)⋅───(C(t)) + C(t)⋅───(A(t)) + ──(A(t))⋅──(C(t))\n",
       "       2                2         dt       dt      \n",
       "     dt               dt                           \n",
       "───────────────────────────────────────────────────\n",
       "                     A(t)⋅C(t)                     "
      ]
     },
     "execution_count": 8,
     "metadata": {},
     "output_type": "execute_result"
    }
   ],
   "source": [
    "simplify(G(3,-3))"
   ]
  },
  {
   "attachments": {},
   "cell_type": "markdown",
   "metadata": {},
   "source": [
    "Igualando ${G_2}^2={T_2}^2$\n",
    "\n",
    "\\begin{align*} \\frac{A\\ddot{C}}{AC} + \\frac{C\\ddot{A}}{CA} + \\frac{\\dot{A}\\dot{C}}{AC} &= -(w+\\gamma)\\rho\\\\\n",
    "\\frac{\\ddot{C}}{C} + \\frac{\\ddot{A}}{A} + \\frac{\\dot{A}\\dot{C}}{AC} &= -(w+\\gamma)\\rho\\end{align*}"
   ]
  },
  {
   "attachments": {},
   "cell_type": "markdown",
   "metadata": {},
   "source": [
    "##### 4) ${G_3}^3={T_3}^3$ :"
   ]
  },
  {
   "cell_type": "code",
   "execution_count": 9,
   "metadata": {},
   "outputs": [
    {
     "data": {
      "image/png": "[encoded data removed]",
      "text/latex": [
       "$\\displaystyle - \\frac{\\alpha^{2}}{A^{2}{\\left(t \\right)}} + \\frac{\\frac{d^{2}}{d t^{2}} B{\\left(t \\right)}}{B{\\left(t \\right)}} + \\frac{\\frac{d^{2}}{d t^{2}} A{\\left(t \\right)}}{A{\\left(t \\right)}} + \\frac{\\frac{d}{d t} A{\\left(t \\right)} \\frac{d}{d t} B{\\left(t \\right)}}{A{\\left(t \\right)} B{\\left(t \\right)}}$"
      ],
      "text/plain": [
       "              2           2                          \n",
       "             d           d                           \n",
       "            ───(B(t))   ───(A(t))   d        d       \n",
       "        2     2           2         ──(A(t))⋅──(B(t))\n",
       "  \\alpha    dt          dt          dt       dt      \n",
       "- ─────── + ───────── + ───────── + ─────────────────\n",
       "    2          B(t)        A(t)         A(t)⋅B(t)    \n",
       "   A (t)                                             "
      ]
     },
     "execution_count": 9,
     "metadata": {},
     "output_type": "execute_result"
    }
   ],
   "source": [
    "simplify(G(4,-4))"
   ]
  },
  {
   "attachments": {},
   "cell_type": "markdown",
   "metadata": {},
   "source": [
    "Igualando ${G_3}^3={T_3}^3$\n",
    "\n",
    "\\begin{equation*} -\\frac{\\alpha^2}{A^2} + \\frac{\\ddot{B}}{B} + \\frac{\\ddot{A}}{A} + \\frac{\\dot{A}\\dot{C}}{AC} = -(w+\\delta)\\rho\\end{equation*}"
   ]
  },
  {
   "attachments": {},
   "cell_type": "markdown",
   "metadata": {},
   "source": [
    "##### 5) ${G_1}^0={T_1}^0$ :"
   ]
  },
  {
   "cell_type": "code",
   "execution_count": 10,
   "metadata": {},
   "outputs": [
    {
     "data": {
      "image/png": "[encoded data removed]",
      "text/latex": [
       "$\\displaystyle \\frac{\\alpha \\frac{d}{d t} B{\\left(t \\right)}}{B{\\left(t \\right)}} - \\frac{\\alpha \\frac{d}{d t} A{\\left(t \\right)}}{A{\\left(t \\right)}}$"
      ],
      "text/plain": [
       "       d                 d       \n",
       "\\alpha⋅──(B(t))   \\alpha⋅──(A(t))\n",
       "       dt                dt      \n",
       "─────────────── - ───────────────\n",
       "      B(t)              A(t)     "
      ]
     },
     "execution_count": 10,
     "metadata": {},
     "output_type": "execute_result"
    }
   ],
   "source": [
    "simplify(G(2,-1))"
   ]
  },
  {
   "attachments": {},
   "cell_type": "markdown",
   "metadata": {},
   "source": [
    "Igualando ${G_1}^0={T_1}^0$\n",
    "\n",
    "\\begin{equation*} \\alpha\\left( \\frac{\\dot{A}}{A} - \\frac{\\dot{B}}{B}\\right) = 0 \\end{equation*}"
   ]
  },
  {
   "attachments": {},
   "cell_type": "markdown",
   "metadata": {},
   "source": [
    "##### 6) ${G_0}^1={T_0}^1$ :"
   ]
  },
  {
   "cell_type": "code",
   "execution_count": 11,
   "metadata": {},
   "outputs": [
    {
     "data": {
      "image/png": "[encoded data removed]",
      "text/latex": [
       "$\\displaystyle \\frac{\\alpha \\left(- A{\\left(t \\right)} \\frac{d}{d t} B{\\left(t \\right)} + B{\\left(t \\right)} \\frac{d}{d t} A{\\left(t \\right)}\\right)}{A^{3}{\\left(t \\right)} B{\\left(t \\right)}}$"
      ],
      "text/plain": [
       "       ⎛       d               d       ⎞\n",
       "\\alpha⋅⎜- A(t)⋅──(B(t)) + B(t)⋅──(A(t))⎟\n",
       "       ⎝       dt              dt      ⎠\n",
       "────────────────────────────────────────\n",
       "                3                       \n",
       "               A (t)⋅B(t)               "
      ]
     },
     "execution_count": 11,
     "metadata": {},
     "output_type": "execute_result"
    }
   ],
   "source": [
    "simplify(G(1,-2))"
   ]
  },
  {
   "attachments": {},
   "cell_type": "markdown",
   "metadata": {},
   "source": [
    "Igualando ${G_0}^1={T_0}^1$\n",
    "\n",
    "\\begin{equation*} \\alpha\\left( \\frac{\\dot{A}}{A} - \\frac{\\dot{B}}{B}\\right) = 0 \\end{equation*}"
   ]
  }
 ],
 "metadata": {
  "kernelspec": {
   "display_name": "mexico",
   "language": "python",
   "name": "python3"
  },
  "language_info": {
   "codemirror_mode": {
    "name": "ipython",
    "version": 3
   },
   "file_extension": ".py",
   "mimetype": "text/x-python",
   "name": "python",
   "nbconvert_exporter": "python",
   "pygments_lexer": "ipython3",
   "version": "3.10.9"
  },
  "orig_nbformat": 4,
  "vscode": {
   "interpreter": {
    "hash": "28fc650845d73aab83bdc507500286fe616ece2d30bb8e41a5997dcdfe1e64ed"
   }
  }
 },
 "nbformat": 4,
 "nbformat_minor": 2
}
